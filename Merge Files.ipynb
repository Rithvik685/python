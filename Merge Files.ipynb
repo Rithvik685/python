{
 "cells": [
  {
   "cell_type": "code",
   "execution_count": 72,
   "id": "b397aa55",
   "metadata": {},
   "outputs": [],
   "source": [
    "import csv\n",
    "import glob"
   ]
  },
  {
   "cell_type": "code",
   "execution_count": 73,
   "id": "2f255288",
   "metadata": {},
   "outputs": [
    {
     "name": "stdout",
     "output_type": "stream",
     "text": [
      "C:/Users/Arvind Rithvik/Desktop/python\\Marks-1.csv\n"
     ]
    }
   ],
   "source": [
    "path = r\"C:/Users/Arvind Rithvik/Desktop/python/\"\n",
    "files_list = glob.glob(path + \"*.csv\")\n",
    "print(files_list[0])"
   ]
  },
  {
   "cell_type": "code",
   "execution_count": 74,
   "id": "e8086845",
   "metadata": {},
   "outputs": [],
   "source": [
    "output_file = \"C:\\\\Users\\\\Arvind Rithvik\\\\Desktop\\\\Marks 4.csv\""
   ]
  },
  {
   "cell_type": "code",
   "execution_count": 75,
   "id": "f2d4fd41",
   "metadata": {},
   "outputs": [],
   "source": [
    "with open(output_file,'w',newline=\"\")as outfile:\n",
    "    writer = csv.writer(outfile)\n",
    "    for file in files_list:\n",
    "        with open(file,'r') as infile:\n",
    "            reader = csv.reader(infile)\n",
    "            rows = list(reader)\n",
    "            \n",
    "            #header = rows.pop(0)\n",
    "            \n",
    "            #footer = rows.pop() if rows[-1] == ['footer'] else None\n",
    "            for row in rows[1:-1]:\n",
    "                writer.writerow(row)"
   ]
  },
  {
   "cell_type": "code",
   "execution_count": 76,
   "id": "0dedeb0f",
   "metadata": {},
   "outputs": [
    {
     "name": "stdout",
     "output_type": "stream",
     "text": [
      "rithvik,XII,80\n",
      "rajesh,XII,82\n",
      "jagdesh,XII,85\n",
      "suresh,XII,87\n",
      "Hitesh,XII,88\n",
      "jagan,XII,89\n",
      "Sam,XII,87\n",
      "Neeraj,XII,92\n",
      "Vinod,XII,90\n",
      "\n"
     ]
    }
   ],
   "source": [
    "f = open(output_file,'r')\n",
    "print(f.read())"
   ]
  },
  {
   "cell_type": "code",
   "execution_count": 2,
   "id": "4456e83f",
   "metadata": {},
   "outputs": [
    {
     "ename": "PermissionError",
     "evalue": "[Errno 13] Permission denied: 'C:/Users/Arvind Rithvik/Desktop/python/'",
     "output_type": "error",
     "traceback": [
      "\u001b[1;31m---------------------------------------------------------------------------\u001b[0m",
      "\u001b[1;31mPermissionError\u001b[0m                           Traceback (most recent call last)",
      "Cell \u001b[1;32mIn[2], line 5\u001b[0m\n\u001b[0;32m      2\u001b[0m path \u001b[38;5;241m=\u001b[39m \u001b[38;5;124mr\u001b[39m\u001b[38;5;124m\"\u001b[39m\u001b[38;5;124mC:/Users/Arvind Rithvik/Desktop/python/\u001b[39m\u001b[38;5;124m\"\u001b[39m\n\u001b[0;32m      3\u001b[0m target \u001b[38;5;241m=\u001b[39m \u001b[38;5;124m\"\u001b[39m\u001b[38;5;124mC:\u001b[39m\u001b[38;5;130;01m\\\\\u001b[39;00m\u001b[38;5;124mUsers\u001b[39m\u001b[38;5;130;01m\\\\\u001b[39;00m\u001b[38;5;124mArvind Rithvik\u001b[39m\u001b[38;5;130;01m\\\\\u001b[39;00m\u001b[38;5;124mDesktop\u001b[39m\u001b[38;5;130;01m\\\\\u001b[39;00m\u001b[38;5;124mMarks 4.csv\u001b[39m\u001b[38;5;124m\"\u001b[39m\n\u001b[1;32m----> 5\u001b[0m \u001b[43mshutil\u001b[49m\u001b[38;5;241;43m.\u001b[39;49m\u001b[43mcopy\u001b[49m\u001b[43m(\u001b[49m\u001b[43mpath\u001b[49m\u001b[43m,\u001b[49m\u001b[43mtarget\u001b[49m\u001b[43m)\u001b[49m\n",
      "File \u001b[1;32m~\\anaconda3\\lib\\shutil.py:417\u001b[0m, in \u001b[0;36mcopy\u001b[1;34m(src, dst, follow_symlinks)\u001b[0m\n\u001b[0;32m    415\u001b[0m \u001b[38;5;28;01mif\u001b[39;00m os\u001b[38;5;241m.\u001b[39mpath\u001b[38;5;241m.\u001b[39misdir(dst):\n\u001b[0;32m    416\u001b[0m     dst \u001b[38;5;241m=\u001b[39m os\u001b[38;5;241m.\u001b[39mpath\u001b[38;5;241m.\u001b[39mjoin(dst, os\u001b[38;5;241m.\u001b[39mpath\u001b[38;5;241m.\u001b[39mbasename(src))\n\u001b[1;32m--> 417\u001b[0m \u001b[43mcopyfile\u001b[49m\u001b[43m(\u001b[49m\u001b[43msrc\u001b[49m\u001b[43m,\u001b[49m\u001b[43m \u001b[49m\u001b[43mdst\u001b[49m\u001b[43m,\u001b[49m\u001b[43m \u001b[49m\u001b[43mfollow_symlinks\u001b[49m\u001b[38;5;241;43m=\u001b[39;49m\u001b[43mfollow_symlinks\u001b[49m\u001b[43m)\u001b[49m\n\u001b[0;32m    418\u001b[0m copymode(src, dst, follow_symlinks\u001b[38;5;241m=\u001b[39mfollow_symlinks)\n\u001b[0;32m    419\u001b[0m \u001b[38;5;28;01mreturn\u001b[39;00m dst\n",
      "File \u001b[1;32m~\\anaconda3\\lib\\shutil.py:254\u001b[0m, in \u001b[0;36mcopyfile\u001b[1;34m(src, dst, follow_symlinks)\u001b[0m\n\u001b[0;32m    252\u001b[0m     os\u001b[38;5;241m.\u001b[39msymlink(os\u001b[38;5;241m.\u001b[39mreadlink(src), dst)\n\u001b[0;32m    253\u001b[0m \u001b[38;5;28;01melse\u001b[39;00m:\n\u001b[1;32m--> 254\u001b[0m     \u001b[38;5;28;01mwith\u001b[39;00m \u001b[38;5;28;43mopen\u001b[39;49m\u001b[43m(\u001b[49m\u001b[43msrc\u001b[49m\u001b[43m,\u001b[49m\u001b[43m \u001b[49m\u001b[38;5;124;43m'\u001b[39;49m\u001b[38;5;124;43mrb\u001b[39;49m\u001b[38;5;124;43m'\u001b[39;49m\u001b[43m)\u001b[49m \u001b[38;5;28;01mas\u001b[39;00m fsrc:\n\u001b[0;32m    255\u001b[0m         \u001b[38;5;28;01mtry\u001b[39;00m:\n\u001b[0;32m    256\u001b[0m             \u001b[38;5;28;01mwith\u001b[39;00m \u001b[38;5;28mopen\u001b[39m(dst, \u001b[38;5;124m'\u001b[39m\u001b[38;5;124mwb\u001b[39m\u001b[38;5;124m'\u001b[39m) \u001b[38;5;28;01mas\u001b[39;00m fdst:\n\u001b[0;32m    257\u001b[0m                 \u001b[38;5;66;03m# macOS\u001b[39;00m\n",
      "\u001b[1;31mPermissionError\u001b[0m: [Errno 13] Permission denied: 'C:/Users/Arvind Rithvik/Desktop/python/'"
     ]
    }
   ],
   "source": [
    "import shutil\n",
    "path = r\"C:/Users/Arvind Rithvik/Desktop/python/\"\n",
    "target = \"C:\\\\Users\\\\Arvind Rithvik\\\\Desktop\\\\Marks 4.csv\"\n",
    "\n",
    "shutil.copy(path,target)"
   ]
  },
  {
   "cell_type": "code",
   "execution_count": 1,
   "id": "5859f4e8",
   "metadata": {},
   "outputs": [
    {
     "name": "stdout",
     "output_type": "stream",
     "text": [
      "['Name', 'Class', 'Percentage']\n",
      "['Total Data', '3(students)', '']\n",
      "[['rithvik', 'XII', '80'], ['rajesh', 'XII', '82'], ['jagdesh', 'XII', '85']]\n",
      "['Name', 'Class', 'Percentage']\n",
      "['Total Data', '3(students)', '']\n",
      "[['suresh', 'XII', '87'], ['Hitesh', 'XII', '88'], ['jagan', 'XII', '89']]\n",
      "['Name', 'Class', 'Percentage']\n",
      "['Total Data', '3(students)', '']\n",
      "[['Sam', 'XII', '87'], ['Neeraj', 'XII', '92'], ['Vinod', 'XII', '90']]\n",
      "CSV files merged successfully!\n"
     ]
    }
   ],
   "source": [
    "import csv\n",
    "import glob\n",
    "\n",
    "def merge_csv_files(input_dir, output_file):\n",
    "    header_written = False\n",
    "\n",
    "    with open(output_file, 'w', newline='') as outfile:\n",
    "        writer = csv.writer(outfile)\n",
    "        \n",
    "        file_list = glob.glob(input_dir + \"*.csv\")\n",
    "        for file_path in file_list:\n",
    "            with open(file_path, 'r') as infile:\n",
    "                reader = csv.reader(infile)\n",
    "                data = list(reader)\n",
    "\n",
    "                header = data[0]\n",
    "                print(header)\n",
    "                footer = data[-1]\n",
    "                print(footer)\n",
    "                data = data[1:-1]\n",
    "                print(data)\n",
    "                    \n",
    "                writer.writerows(data)\n",
    "\n",
    "    print(\"CSV files merged successfully!\")\n",
    "\n",
    "# Example usage\n",
    "input_dir = 'C:/Users/Arvind Rithvik/Desktop/python/'\n",
    "output_file = 'C:\\\\Users\\\\Arvind Rithvik\\\\Desktop\\\\Marks 4.csv'\n",
    "\n",
    "merge_csv_files(input_dir, output_file)"
   ]
  },
  {
   "cell_type": "code",
   "execution_count": 2,
   "id": "3d954318",
   "metadata": {},
   "outputs": [
    {
     "name": "stdout",
     "output_type": "stream",
     "text": [
      "rithvik,XII,80\n",
      "rajesh,XII,82\n",
      "jagdesh,XII,85\n",
      "suresh,XII,87\n",
      "Hitesh,XII,88\n",
      "jagan,XII,89\n",
      "Sam,XII,87\n",
      "Neeraj,XII,92\n",
      "Vinod,XII,90\n",
      "\n"
     ]
    }
   ],
   "source": [
    "f = open(output_file, 'r')\n",
    "print(f.read())"
   ]
  },
  {
   "cell_type": "code",
   "execution_count": 4,
   "id": "2e3492f1",
   "metadata": {},
   "outputs": [],
   "source": [
    "import csv\n",
    "import glob"
   ]
  },
  {
   "cell_type": "code",
   "execution_count": 5,
   "id": "0748d71b",
   "metadata": {},
   "outputs": [],
   "source": [
    "file_path = glob.glob(\"C:\\\\Users\\\\Arvind Rithvik\\\\Desktop\\\\python\\*.csv\") \n",
    "merged_data = []"
   ]
  },
  {
   "cell_type": "code",
   "execution_count": 7,
   "id": "18767e2d",
   "metadata": {},
   "outputs": [
    {
     "name": "stdout",
     "output_type": "stream",
     "text": [
      "list[<_csv.reader object at 0x00000159BA793340>]\n"
     ]
    },
    {
     "ename": "TypeError",
     "evalue": "There are no type variables left in list[<_csv.reader object at 0x00000159BA793340>]",
     "output_type": "error",
     "traceback": [
      "\u001b[1;31m---------------------------------------------------------------------------\u001b[0m",
      "\u001b[1;31mTypeError\u001b[0m                                 Traceback (most recent call last)",
      "Cell \u001b[1;32mIn[7], line 8\u001b[0m\n\u001b[0;32m      6\u001b[0m reader \u001b[38;5;241m=\u001b[39m \u001b[38;5;28mlist\u001b[39m[reader]\n\u001b[0;32m      7\u001b[0m \u001b[38;5;28mprint\u001b[39m(reader)\n\u001b[1;32m----> 8\u001b[0m reader \u001b[38;5;241m=\u001b[39m \u001b[43mreader\u001b[49m\u001b[43m[\u001b[49m\u001b[38;5;241;43m1\u001b[39;49m\u001b[43m:\u001b[49m\u001b[38;5;241;43m-\u001b[39;49m\u001b[38;5;241;43m1\u001b[39;49m\u001b[43m]\u001b[49m\n\u001b[0;32m      9\u001b[0m \u001b[38;5;28;01mfor\u001b[39;00m i \u001b[38;5;129;01min\u001b[39;00m reader:\n\u001b[0;32m     10\u001b[0m     \u001b[38;5;28;01mwhile\u001b[39;00m(\u001b[38;5;124m'\u001b[39m\u001b[38;5;124m'\u001b[39m\u001b[38;5;129;01min\u001b[39;00m i):\n",
      "\u001b[1;31mTypeError\u001b[0m: There are no type variables left in list[<_csv.reader object at 0x00000159BA793340>]"
     ]
    }
   ],
   "source": [
    "#header_written = False\n",
    "for file in file_path:\n",
    "    with open(file,'r',newline='') as infile:\n",
    "        reader = csv.reader(infile)\n",
    "        next(reader)\n",
    "        reader = list[reader]\n",
    "        print(reader)\n",
    "        reader = reader[1:-1]\n",
    "        for i in reader:\n",
    "            while(''in i):\n",
    "                i.remove('')\n",
    "        merged_data.extend(list(reader))\n",
    "with open(\"C:/Users/Arvind Rithvik/Desktop/Marks 4.csv\",'w',newline='') as outfile:\n",
    "    writer = csv.writer(outfile)\n",
    "    writer.writerows(merged_data)"
   ]
  },
  {
   "cell_type": "code",
   "execution_count": 10,
   "id": "12b76dfb",
   "metadata": {},
   "outputs": [
    {
     "name": "stdout",
     "output_type": "stream",
     "text": [
      "[['Name', 'Class', 'Percentage'], ['rithvik', 'XII', '80'], ['rajesh', 'XII', '82'], ['jagdesh', 'XII', '85'], ['Total Data', '3(students)', '']]\n",
      "[['Name', 'Class', 'Percentage'], ['rithvik', 'XII', '80'], ['rajesh', 'XII', '82'], ['jagdesh', 'XII', '85'], ['Total Data', '3(students)', ''], ['Name', 'Class', 'Percentage'], ['suresh', 'XII', '87'], ['Hitesh', 'XII', '88'], ['jagan', 'XII', '89'], ['Total Data', '3(students)', '']]\n",
      "[['Name', 'Class', 'Percentage'], ['rithvik', 'XII', '80'], ['rajesh', 'XII', '82'], ['jagdesh', 'XII', '85'], ['Total Data', '3(students)', ''], ['Name', 'Class', 'Percentage'], ['suresh', 'XII', '87'], ['Hitesh', 'XII', '88'], ['jagan', 'XII', '89'], ['Total Data', '3(students)', ''], ['Name', 'Class', 'Percentage'], ['Sam', 'XII', '87'], ['Neeraj', 'XII', '92'], ['Vinod', 'XII', '90'], ['Total Data', '3(students)', '']]\n"
     ]
    }
   ],
   "source": [
    "marks = []\n",
    "file_path = glob.glob(\"C:/Users/Arvind Rithvik/Desktop/python\\*.csv\")\n",
    "#print(file_path[0])\n",
    "for file in file_path:\n",
    "    with open(file,'r') as infile:\n",
    "        reader = csv.reader(infile)\n",
    "        for row in reader:\n",
    "            marks.append(row)\n",
    "        print(marks)"
   ]
  },
  {
   "cell_type": "code",
   "execution_count": 12,
   "id": "21477f8a",
   "metadata": {},
   "outputs": [
    {
     "name": "stdout",
     "output_type": "stream",
     "text": [
      "the new list:[['Name', 'Class', 'Percentage'], ['rithvik', 'XII', '80'], ['rajesh', 'XII', '82'], ['jagdesh', 'XII', '85'], ['Total Data', '3(students)', ''], ['suresh', 'XII', '87'], ['Hitesh', 'XII', '88'], ['jagan', 'XII', '89'], ['Sam', 'XII', '87'], ['Neeraj', 'XII', '92'], ['Vinod', 'XII', '90']]\n"
     ]
    }
   ],
   "source": [
    "results = []\n",
    "for i in marks:\n",
    "    if i not in results:\n",
    "        results.append(i)\n",
    "\n",
    "print(\"the new list:\" + str(results))"
   ]
  },
  {
   "cell_type": "code",
   "execution_count": 16,
   "id": "f1765c86",
   "metadata": {},
   "outputs": [
    {
     "name": "stdout",
     "output_type": "stream",
     "text": [
      "The new list:[['Name', 'Class', 'Percentage'], ['rithvik', 'XII', '80'], ['rajesh', 'XII', '82'], ['jagdesh', 'XII', '85'], ['Total Data', '3(students)', ''], ['suresh', 'XII', '87'], ['Hitesh', 'XII', '88'], ['jagan', 'XII', '89'], ['Sam', 'XII', '87'], ['Neeraj', 'XII', '92'], ['Vinod', 'XII', '90']]\n"
     ]
    }
   ],
   "source": [
    "results1 = []\n",
    "for i in marks:\n",
    "    if i not in results1:\n",
    "        results1.append(i)\n",
    "print(\"The new list:\" + str(results1))"
   ]
  },
  {
   "cell_type": "code",
   "execution_count": 24,
   "id": "32d037cd",
   "metadata": {},
   "outputs": [
    {
     "name": "stdout",
     "output_type": "stream",
     "text": [
      "Name,Class,Percentage\n",
      "rithvik,XII,80\n",
      "rajesh,XII,82\n",
      "jagdesh,XII,85\n",
      "Total Data,3(students),\n",
      "suresh,XII,87\n",
      "Hitesh,XII,88\n",
      "jagan,XII,89\n",
      "Sam,XII,87\n",
      "Neeraj,XII,92\n",
      "Vinod,XII,90\n",
      "\n"
     ]
    }
   ],
   "source": [
    "path = \"C:\\\\Users\\\\Arvind Rithvik\\\\Desktop\\\\Marks 4.csv\"\n",
    "with open(path,'w',newline='')as outfile:\n",
    "    writer = csv.writer(outfile)\n",
    "    writer.writerows(results1)\n",
    "\n",
    "f = open(\"C:\\\\Users\\\\Arvind Rithvik\\\\Desktop\\\\Marks 4.csv\",'r')\n",
    "print(f.read())"
   ]
  },
  {
   "cell_type": "code",
   "execution_count": 42,
   "id": "81ba6937",
   "metadata": {},
   "outputs": [],
   "source": [
    "import requests\n",
    "import csv\n",
    "import json\n",
    "\n",
    "response = requests.get(\"https://dummyjson.com/carts/1\")\n",
    "if response.status_code == 200:\n",
    "    data = response.json()\n",
    "    \n",
    "    print(data)\n",
    "else:\n",
    "    print(\"Error:\",response.status_code)\n",
    "with open('cart.csv','w',newline='') as outfile:\n",
    "    json.dump(data,outfile)"
   ]
  },
  {
   "cell_type": "code",
   "execution_count": 2,
   "id": "a6dddf91",
   "metadata": {},
   "outputs": [
    {
     "ename": "SyntaxError",
     "evalue": "invalid syntax (2493844102.py, line 6)",
     "output_type": "error",
     "traceback": [
      "\u001b[1;36m  Cell \u001b[1;32mIn[2], line 6\u001b[1;36m\u001b[0m\n\u001b[1;33m    else:a\u001b[0m\n\u001b[1;37m    ^\u001b[0m\n\u001b[1;31mSyntaxError\u001b[0m\u001b[1;31m:\u001b[0m invalid syntax\n"
     ]
    }
   ],
   "source": [
    "response = requests.get(\"https://dummyjson.com/carts/1\")\n",
    "if response.status_code == 200:\n",
    "    data = response.json()\n",
    "    \n",
    "    #print(data)\n",
    "else:\n",
    "    print(\"Error:\",response.status_code)\n",
    "    \n",
    "f = open('cart.csv','r')\n",
    "print(f.read())"
   ]
  },
  {
   "cell_type": "code",
   "execution_count": 46,
   "id": "9ae3606f",
   "metadata": {},
   "outputs": [],
   "source": [
    "with open('cart.csv','w',newline=\"\") as outfile:\n",
    "    json.dump(data,outfile)"
   ]
  },
  {
   "cell_type": "code",
   "execution_count": 47,
   "id": "3952aa23",
   "metadata": {},
   "outputs": [
    {
     "name": "stdout",
     "output_type": "stream",
     "text": [
      "{\"id\": 1, \"products\": [{\"id\": 59, \"title\": \"Spring and summershoes\", \"price\": 20, \"quantity\": 3, \"total\": 60, \"discountPercentage\": 8.71, \"discountedPrice\": 55}, {\"id\": 88, \"title\": \"TC Reusable Silicone Magic Washing Gloves\", \"price\": 29, \"quantity\": 2, \"total\": 58, \"discountPercentage\": 3.19, \"discountedPrice\": 56}, {\"id\": 18, \"title\": \"Oil Free Moisturizer 100ml\", \"price\": 40, \"quantity\": 2, \"total\": 80, \"discountPercentage\": 13.1, \"discountedPrice\": 70}, {\"id\": 95, \"title\": \"Wholesale cargo lashing Belt\", \"price\": 930, \"quantity\": 1, \"total\": 930, \"discountPercentage\": 17.67, \"discountedPrice\": 766}, {\"id\": 39, \"title\": \"Women Sweaters Wool\", \"price\": 600, \"quantity\": 2, \"total\": 1200, \"discountPercentage\": 17.2, \"discountedPrice\": 994}], \"total\": 2328, \"discountedTotal\": 1941, \"userId\": 97, \"totalProducts\": 5, \"totalQuantity\": 10}\n"
     ]
    }
   ],
   "source": [
    "f = open('cart.csv','r')\n",
    "print(f.read())"
   ]
  },
  {
   "cell_type": "code",
   "execution_count": 18,
   "id": "3eeba8a1",
   "metadata": {},
   "outputs": [
    {
     "name": "stdout",
     "output_type": "stream",
     "text": [
      "data is appended\n"
     ]
    }
   ],
   "source": [
    "import requests\n",
    "import csv\n",
    "\n",
    "response = requests.get(\"https://dummyjson.com/carts/1\")\n",
    "\n",
    "if response.status_code == 200:\n",
    "    data = response.json()\n",
    "    \n",
    "    with open(\"cart.csv\",'w',newline='')as file:\n",
    "        writer = csv.writer(file)\n",
    "        \n",
    "        id_num = data[\"id\"]\n",
    "        products = data[\"products\"]\n",
    "        id_no = data[\"id\"]\n",
    "        \n",
    "        json_data = json.dumps(data)\n",
    "        \n",
    "        formated_data = [id_num,products,id_no]\n",
    "        writer.writerow(formated_data)\n",
    "        \n",
    "        print(\"data is appended\")\n",
    "else:\n",
    "    print(\"Error:\",response.status_code)"
   ]
  },
  {
   "cell_type": "code",
   "execution_count": 19,
   "id": "21a07161",
   "metadata": {},
   "outputs": [
    {
     "name": "stdout",
     "output_type": "stream",
     "text": [
      "1,\"[{'id': 59, 'title': 'Spring and summershoes', 'price': 20, 'quantity': 3, 'total': 60, 'discountPercentage': 8.71, 'discountedPrice': 55}, {'id': 88, 'title': 'TC Reusable Silicone Magic Washing Gloves', 'price': 29, 'quantity': 2, 'total': 58, 'discountPercentage': 3.19, 'discountedPrice': 56}, {'id': 18, 'title': 'Oil Free Moisturizer 100ml', 'price': 40, 'quantity': 2, 'total': 80, 'discountPercentage': 13.1, 'discountedPrice': 70}, {'id': 95, 'title': 'Wholesale cargo lashing Belt', 'price': 930, 'quantity': 1, 'total': 930, 'discountPercentage': 17.67, 'discountedPrice': 766}, {'id': 39, 'title': 'Women Sweaters Wool', 'price': 600, 'quantity': 2, 'total': 1200, 'discountPercentage': 17.2, 'discountedPrice': 994}]\",1\n",
      "\n"
     ]
    }
   ],
   "source": [
    "f = open(\"cart.csv\",'r')\n",
    "print(f.read())"
   ]
  },
  {
   "cell_type": "code",
   "execution_count": 28,
   "id": "c9eff187",
   "metadata": {},
   "outputs": [
    {
     "ename": "AttributeError",
     "evalue": "'str' object has no attribute 'keys'",
     "output_type": "error",
     "traceback": [
      "\u001b[1;31m---------------------------------------------------------------------------\u001b[0m",
      "\u001b[1;31mAttributeError\u001b[0m                            Traceback (most recent call last)",
      "Cell \u001b[1;32mIn[28], line 13\u001b[0m\n\u001b[0;32m     11\u001b[0m \u001b[38;5;28;01mfor\u001b[39;00m data \u001b[38;5;129;01min\u001b[39;00m jsondata:\n\u001b[0;32m     12\u001b[0m     \u001b[38;5;28;01mif\u001b[39;00m count \u001b[38;5;241m==\u001b[39m \u001b[38;5;241m0\u001b[39m:\n\u001b[1;32m---> 13\u001b[0m         header \u001b[38;5;241m=\u001b[39m \u001b[43mdata\u001b[49m\u001b[38;5;241;43m.\u001b[39;49m\u001b[43mkeys\u001b[49m()\n\u001b[0;32m     14\u001b[0m         \u001b[38;5;28mprint\u001b[39m(header)\n\u001b[0;32m     15\u001b[0m         csv_writer\u001b[38;5;241m.\u001b[39mwriterow(header)\n",
      "\u001b[1;31mAttributeError\u001b[0m: 'str' object has no attribute 'keys'"
     ]
    }
   ],
   "source": [
    "import json\n",
    "import csv\n",
    "\n",
    "with open(\"C:\\\\Users\\\\Arvind Rithvik\\\\Downloads\\\\jsonviewer.json.txt\") as json_file:\n",
    "    jsondata = json.load(json_file)\n",
    "\n",
    "data_file = open(\"C:\\\\Users\\\\Arvind Rithvik\\\\Desktop\\\\Python Assignments\\\\cart.csv\", 'w', newline='')\n",
    "csv_writer = csv.writer(data_file)\n",
    "\n",
    "count = 0\n",
    "for data in jsondata:\n",
    "    if count == 0:\n",
    "        header = data.keys()\n",
    "        print(header)\n",
    "        csv_writer.writerow(header)\n",
    "        count += 1\n",
    "    csv_writer.writerow(data.values())\n",
    "\n",
    "data_file.close()"
   ]
  },
  {
   "cell_type": "code",
   "execution_count": 31,
   "id": "aca2f128",
   "metadata": {},
   "outputs": [],
   "source": [
    "import requests\n",
    "import csv\n",
    "\n",
    "response = requests.get('https://jsonplaceholder.typicode.com/users/1')\n",
    "if response.status_code == 200:\n",
    "    data = response.json()\n",
    "    \n",
    "    data_file = open(\"C:\\\\Users\\\\Arvind Rithvik\\\\Desktop\\\\Python Assignments\\\\cart.csv\",'w',newline='')\n",
    "    writer = \n",
    "else:\n",
    "    print(\"Error:\",response.status_code)"
   ]
  },
  {
   "cell_type": "code",
   "execution_count": 32,
   "id": "92e80962",
   "metadata": {},
   "outputs": [
    {
     "name": "stdout",
     "output_type": "stream",
     "text": [
      "{'id': 1, 'name': 'Leanne Graham', 'username': 'Bret', 'email': 'Sincere@april.biz', 'address': {'street': 'Kulas Light', 'suite': 'Apt. 556', 'city': 'Gwenborough', 'zipcode': '92998-3874', 'geo': {'lat': '-37.3159', 'lng': '81.1496'}}, 'phone': '1-770-736-8031 x56442', 'website': 'hildegard.org', 'company': {'name': 'Romaguera-Crona', 'catchPhrase': 'Multi-layered client-server neural-net', 'bs': 'harness real-time e-markets'}}\n"
     ]
    }
   ],
   "source": [
    "print(data)"
   ]
  },
  {
   "cell_type": "code",
   "execution_count": 33,
   "id": "2648d05f",
   "metadata": {},
   "outputs": [],
   "source": [
    "with open(\"cart.csv\",'w',newline='')as output:\n",
    "    writer = csv.writer(output)\n",
    "    writer.writerows(data)"
   ]
  },
  {
   "cell_type": "code",
   "execution_count": 34,
   "id": "436aac9b",
   "metadata": {},
   "outputs": [
    {
     "name": "stdout",
     "output_type": "stream",
     "text": [
      "i,d\n",
      "n,a,m,e\n",
      "u,s,e,r,n,a,m,e\n",
      "e,m,a,i,l\n",
      "a,d,d,r,e,s,s\n",
      "p,h,o,n,e\n",
      "w,e,b,s,i,t,e\n",
      "c,o,m,p,a,n,y\n",
      "\n"
     ]
    }
   ],
   "source": [
    "f = open(\"cart.csv\",'r')\n",
    "print(f.read())"
   ]
  },
  {
   "cell_type": "code",
   "execution_count": 35,
   "id": "eb272e69",
   "metadata": {},
   "outputs": [],
   "source": [
    "import pandas as pd\n",
    "df = pd.read_json('cart.txt')\n",
    "df.to_csv('cart.csv')"
   ]
  },
  {
   "cell_type": "code",
   "execution_count": 36,
   "id": "7110e38b",
   "metadata": {},
   "outputs": [
    {
     "name": "stdout",
     "output_type": "stream",
     "text": [
      ",id,products,total,discountedTotal,userId,totalProducts,totalQuantity\n",
      "0,1,\"{'id': 59, 'title': 'Spring and summershoes', 'price': 20, 'quantity': 3, 'total': 60, 'discountPercentage': 8.71, 'discountedPrice': 55}\",2328,1941,97,5,10\n",
      "1,1,\"{'id': 88, 'title': 'TC Reusable Silicone Magic Washing Gloves', 'price': 29, 'quantity': 2, 'total': 58, 'discountPercentage': 3.19, 'discountedPrice': 56}\",2328,1941,97,5,10\n",
      "2,1,\"{'id': 18, 'title': 'Oil Free Moisturizer 100ml', 'price': 40, 'quantity': 2, 'total': 80, 'discountPercentage': 13.1, 'discountedPrice': 70}\",2328,1941,97,5,10\n",
      "3,1,\"{'id': 95, 'title': 'Wholesale cargo lashing Belt', 'price': 930, 'quantity': 1, 'total': 930, 'discountPercentage': 17.67, 'discountedPrice': 766}\",2328,1941,97,5,10\n",
      "4,1,\"{'id': 39, 'title': 'Women Sweaters Wool', 'price': 600, 'quantity': 2, 'total': 1200, 'discountPercentage': 17.2, 'discountedPrice': 994}\",2328,1941,97,5,10\n",
      "\n"
     ]
    }
   ],
   "source": [
    "f = open('cart.csv','r')\n",
    "print(f.read())"
   ]
  },
  {
   "cell_type": "code",
   "execution_count": 37,
   "id": "3b53158d",
   "metadata": {},
   "outputs": [
    {
     "ename": "InvalidFileException",
     "evalue": "openpyxl does not support .csv file format, please check you can open it with Excel first. Supported formats are: .xlsx,.xlsm,.xltx,.xltm",
     "output_type": "error",
     "traceback": [
      "\u001b[1;31m---------------------------------------------------------------------------\u001b[0m",
      "\u001b[1;31mInvalidFileException\u001b[0m                      Traceback (most recent call last)",
      "Cell \u001b[1;32mIn[37], line 2\u001b[0m\n\u001b[0;32m      1\u001b[0m \u001b[38;5;28;01mfrom\u001b[39;00m \u001b[38;5;21;01mopenpyxl\u001b[39;00m \u001b[38;5;28;01mimport\u001b[39;00m load_workbook\n\u001b[1;32m----> 2\u001b[0m wb2 \u001b[38;5;241m=\u001b[39m \u001b[43mload_workbook\u001b[49m\u001b[43m(\u001b[49m\u001b[38;5;124;43m'\u001b[39;49m\u001b[38;5;124;43mcart.csv\u001b[39;49m\u001b[38;5;124;43m'\u001b[39;49m\u001b[43m)\u001b[49m\n\u001b[0;32m      3\u001b[0m wb2\u001b[38;5;241m.\u001b[39mcreate_sheet(\u001b[38;5;124m'\u001b[39m\u001b[38;5;124mcart2\u001b[39m\u001b[38;5;124m'\u001b[39m)\n\u001b[0;32m      4\u001b[0m wb2\u001b[38;5;241m.\u001b[39msave(\u001b[38;5;124m'\u001b[39m\u001b[38;5;124mcart.csv\u001b[39m\u001b[38;5;124m'\u001b[39m)\n",
      "File \u001b[1;32m~\\anaconda3\\lib\\site-packages\\openpyxl\\reader\\excel.py:315\u001b[0m, in \u001b[0;36mload_workbook\u001b[1;34m(filename, read_only, keep_vba, data_only, keep_links)\u001b[0m\n\u001b[0;32m    288\u001b[0m \u001b[38;5;28;01mdef\u001b[39;00m \u001b[38;5;21mload_workbook\u001b[39m(filename, read_only\u001b[38;5;241m=\u001b[39m\u001b[38;5;28;01mFalse\u001b[39;00m, keep_vba\u001b[38;5;241m=\u001b[39mKEEP_VBA,\n\u001b[0;32m    289\u001b[0m                   data_only\u001b[38;5;241m=\u001b[39m\u001b[38;5;28;01mFalse\u001b[39;00m, keep_links\u001b[38;5;241m=\u001b[39m\u001b[38;5;28;01mTrue\u001b[39;00m):\n\u001b[0;32m    290\u001b[0m     \u001b[38;5;124;03m\"\"\"Open the given filename and return the workbook\u001b[39;00m\n\u001b[0;32m    291\u001b[0m \n\u001b[0;32m    292\u001b[0m \u001b[38;5;124;03m    :param filename: the path to open or a file-like object\u001b[39;00m\n\u001b[1;32m   (...)\u001b[0m\n\u001b[0;32m    313\u001b[0m \n\u001b[0;32m    314\u001b[0m \u001b[38;5;124;03m    \"\"\"\u001b[39;00m\n\u001b[1;32m--> 315\u001b[0m     reader \u001b[38;5;241m=\u001b[39m \u001b[43mExcelReader\u001b[49m\u001b[43m(\u001b[49m\u001b[43mfilename\u001b[49m\u001b[43m,\u001b[49m\u001b[43m \u001b[49m\u001b[43mread_only\u001b[49m\u001b[43m,\u001b[49m\u001b[43m \u001b[49m\u001b[43mkeep_vba\u001b[49m\u001b[43m,\u001b[49m\n\u001b[0;32m    316\u001b[0m \u001b[43m                        \u001b[49m\u001b[43mdata_only\u001b[49m\u001b[43m,\u001b[49m\u001b[43m \u001b[49m\u001b[43mkeep_links\u001b[49m\u001b[43m)\u001b[49m\n\u001b[0;32m    317\u001b[0m     reader\u001b[38;5;241m.\u001b[39mread()\n\u001b[0;32m    318\u001b[0m     \u001b[38;5;28;01mreturn\u001b[39;00m reader\u001b[38;5;241m.\u001b[39mwb\n",
      "File \u001b[1;32m~\\anaconda3\\lib\\site-packages\\openpyxl\\reader\\excel.py:124\u001b[0m, in \u001b[0;36mExcelReader.__init__\u001b[1;34m(self, fn, read_only, keep_vba, data_only, keep_links)\u001b[0m\n\u001b[0;32m    122\u001b[0m \u001b[38;5;28;01mdef\u001b[39;00m \u001b[38;5;21m__init__\u001b[39m(\u001b[38;5;28mself\u001b[39m,  fn, read_only\u001b[38;5;241m=\u001b[39m\u001b[38;5;28;01mFalse\u001b[39;00m, keep_vba\u001b[38;5;241m=\u001b[39mKEEP_VBA,\n\u001b[0;32m    123\u001b[0m               data_only\u001b[38;5;241m=\u001b[39m\u001b[38;5;28;01mFalse\u001b[39;00m, keep_links\u001b[38;5;241m=\u001b[39m\u001b[38;5;28;01mTrue\u001b[39;00m):\n\u001b[1;32m--> 124\u001b[0m     \u001b[38;5;28mself\u001b[39m\u001b[38;5;241m.\u001b[39marchive \u001b[38;5;241m=\u001b[39m \u001b[43m_validate_archive\u001b[49m\u001b[43m(\u001b[49m\u001b[43mfn\u001b[49m\u001b[43m)\u001b[49m\n\u001b[0;32m    125\u001b[0m     \u001b[38;5;28mself\u001b[39m\u001b[38;5;241m.\u001b[39mvalid_files \u001b[38;5;241m=\u001b[39m \u001b[38;5;28mself\u001b[39m\u001b[38;5;241m.\u001b[39marchive\u001b[38;5;241m.\u001b[39mnamelist()\n\u001b[0;32m    126\u001b[0m     \u001b[38;5;28mself\u001b[39m\u001b[38;5;241m.\u001b[39mread_only \u001b[38;5;241m=\u001b[39m read_only\n",
      "File \u001b[1;32m~\\anaconda3\\lib\\site-packages\\openpyxl\\reader\\excel.py:94\u001b[0m, in \u001b[0;36m_validate_archive\u001b[1;34m(filename)\u001b[0m\n\u001b[0;32m     88\u001b[0m         \u001b[38;5;28;01melse\u001b[39;00m:\n\u001b[0;32m     89\u001b[0m             msg \u001b[38;5;241m=\u001b[39m (\u001b[38;5;124m'\u001b[39m\u001b[38;5;124mopenpyxl does not support \u001b[39m\u001b[38;5;132;01m%s\u001b[39;00m\u001b[38;5;124m file format, \u001b[39m\u001b[38;5;124m'\u001b[39m\n\u001b[0;32m     90\u001b[0m                    \u001b[38;5;124m'\u001b[39m\u001b[38;5;124mplease check you can open \u001b[39m\u001b[38;5;124m'\u001b[39m\n\u001b[0;32m     91\u001b[0m                    \u001b[38;5;124m'\u001b[39m\u001b[38;5;124mit with Excel first. \u001b[39m\u001b[38;5;124m'\u001b[39m\n\u001b[0;32m     92\u001b[0m                    \u001b[38;5;124m'\u001b[39m\u001b[38;5;124mSupported formats are: \u001b[39m\u001b[38;5;132;01m%s\u001b[39;00m\u001b[38;5;124m'\u001b[39m) \u001b[38;5;241m%\u001b[39m (file_format,\n\u001b[0;32m     93\u001b[0m                                                    \u001b[38;5;124m'\u001b[39m\u001b[38;5;124m,\u001b[39m\u001b[38;5;124m'\u001b[39m\u001b[38;5;241m.\u001b[39mjoin(SUPPORTED_FORMATS))\n\u001b[1;32m---> 94\u001b[0m         \u001b[38;5;28;01mraise\u001b[39;00m InvalidFileException(msg)\n\u001b[0;32m     96\u001b[0m archive \u001b[38;5;241m=\u001b[39m ZipFile(filename, \u001b[38;5;124m'\u001b[39m\u001b[38;5;124mr\u001b[39m\u001b[38;5;124m'\u001b[39m)\n\u001b[0;32m     97\u001b[0m \u001b[38;5;28;01mreturn\u001b[39;00m archive\n",
      "\u001b[1;31mInvalidFileException\u001b[0m: openpyxl does not support .csv file format, please check you can open it with Excel first. Supported formats are: .xlsx,.xlsm,.xltx,.xltm"
     ]
    }
   ],
   "source": [
    "from openpyxl import load_workbook\n",
    "wb2 = load_workbook('cart.csv')\n",
    "wb2.create_sheet('cart2')\n",
    "wb2.save('cart.csv')"
   ]
  },
  {
   "cell_type": "code",
   "execution_count": null,
   "id": "d48a1e78",
   "metadata": {},
   "outputs": [],
   "source": []
  }
 ],
 "metadata": {
  "kernelspec": {
   "display_name": "Python 3 (ipykernel)",
   "language": "python",
   "name": "python3"
  },
  "language_info": {
   "codemirror_mode": {
    "name": "ipython",
    "version": 3
   },
   "file_extension": ".py",
   "mimetype": "text/x-python",
   "name": "python",
   "nbconvert_exporter": "python",
   "pygments_lexer": "ipython3",
   "version": "3.10.9"
  }
 },
 "nbformat": 4,
 "nbformat_minor": 5
}
